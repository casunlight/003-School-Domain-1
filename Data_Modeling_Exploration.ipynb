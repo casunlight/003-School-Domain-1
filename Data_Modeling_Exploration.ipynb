{
  "nbformat": 4,
  "nbformat_minor": 0,
  "metadata": {
    "colab": {
      "provenance": [],
      "include_colab_link": true
    },
    "kernelspec": {
      "name": "python3",
      "display_name": "Python 3"
    },
    "language_info": {
      "name": "python"
    }
  },
  "cells": [
    {
      "cell_type": "markdown",
      "metadata": {
        "id": "view-in-github",
        "colab_type": "text"
      },
      "source": [
        "<a href=\"https://colab.research.google.com/github/casunlight/003-School-Domain-1/blob/master/Data_Modeling_Exploration.ipynb\" target=\"_parent\"><img src=\"https://colab.research.google.com/assets/colab-badge.svg\" alt=\"Open In Colab\"/></a>"
      ]
    },
    {
      "cell_type": "markdown",
      "source": [
        "# Data Modeling\n",
        "\n",
        "There is no single way to store things in a computer. Data for different sources can have wildly different fields, different tasks have different access patterns."
      ],
      "metadata": {
        "id": "0J7Gp1IJwKls"
      }
    },
    {
      "cell_type": "code",
      "source": [
        "import random\n",
        "import pandas as pd\n",
        "import numpy as np"
      ],
      "metadata": {
        "id": "MNV1TRfQwLD3"
      },
      "execution_count": null,
      "outputs": []
    },
    {
      "cell_type": "markdown",
      "source": [
        "# Example Problem: E-commerce\n",
        "\n",
        "Let's say that we are working with a store (e.g. Amazon, Etsy, etc.). Here we will be dealing with three things:\n",
        "\n",
        "* customers\n",
        "* products\n",
        "* shopping carts\n",
        "\n",
        "For simplicity, let's assume that the data we are trying to work with is useful for analytics and/or data science, and not worry about things that would be required for a real business such as descriptions, images, etc."
      ],
      "metadata": {
        "id": "uUofK1lctdqX"
      }
    },
    {
      "cell_type": "markdown",
      "source": [
        "## Customers"
      ],
      "metadata": {
        "id": "-Sim6WH6uyzr"
      }
    },
    {
      "cell_type": "code",
      "execution_count": null,
      "metadata": {
        "id": "ndmE30idrPgF"
      },
      "outputs": [],
      "source": []
    },
    {
      "cell_type": "markdown",
      "source": [
        "# Products"
      ],
      "metadata": {
        "id": "OwDPZkOku0t8"
      }
    },
    {
      "cell_type": "code",
      "source": [],
      "metadata": {
        "id": "W95OpKgYu2mZ"
      },
      "execution_count": null,
      "outputs": []
    },
    {
      "cell_type": "markdown",
      "source": [
        "## Carts"
      ],
      "metadata": {
        "id": "WB8LAc2Su2z-"
      }
    },
    {
      "cell_type": "code",
      "source": [],
      "metadata": {
        "id": "hmlA-j3Yu4m_"
      },
      "execution_count": null,
      "outputs": []
    },
    {
      "cell_type": "markdown",
      "source": [
        "# Relations\n",
        "\n",
        "Data almost never exists in a vacuum. There are typically relationships between entities that we need in order perform a task, or that provide us valuable insights.\n",
        "\n",
        "What are some relationships between our entities that we might be interested in?"
      ],
      "metadata": {
        "id": "FaBE-qKBvlze"
      }
    },
    {
      "cell_type": "code",
      "source": [],
      "metadata": {
        "id": "R8xfCP3av-VW"
      },
      "execution_count": null,
      "outputs": []
    },
    {
      "cell_type": "markdown",
      "source": [
        "# Tasks\n",
        "\n",
        "1. Analytics\n",
        "2. Training a predictive ML model\n",
        "3. Recommendation systems\n",
        "\n",
        "Let's discuss what is required for each task, and how we might store data to support that."
      ],
      "metadata": {
        "id": "exgUF-_avWwa"
      }
    },
    {
      "cell_type": "code",
      "source": [],
      "metadata": {
        "id": "lof3hWYIx2mk"
      },
      "execution_count": null,
      "outputs": []
    }
  ]
}